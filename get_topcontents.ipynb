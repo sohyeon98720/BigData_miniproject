{
 "cells": [
  {
   "cell_type": "markdown",
   "metadata": {},
   "source": [
    "# 수집한 데이터 처리-2\n",
    "## 블로그 본문내용을 분석하여 넷플릭스와 왓챠의 상위 컨텐츠 알아내기"
   ]
  },
  {
   "cell_type": "markdown",
   "metadata": {},
   "source": [
    "## (python 2+ spark-2.0.0-bin-hadoop2.7)"
   ]
  },
  {
   "cell_type": "markdown",
   "metadata": {},
   "source": [
    "# -------------------------------------------------------"
   ]
  },
  {
   "cell_type": "code",
   "execution_count": 1,
   "metadata": {},
   "outputs": [],
   "source": [
    "import os\n",
    "import sys"
   ]
  },
  {
   "cell_type": "code",
   "execution_count": 2,
   "metadata": {},
   "outputs": [
    {
     "data": {
      "text/plain": [
       "'C:\\\\Users\\\\sohyeon'"
      ]
     },
     "execution_count": 2,
     "metadata": {},
     "output_type": "execute_result"
    }
   ],
   "source": [
    "os.path.expanduser(\"~\")"
   ]
  },
  {
   "cell_type": "code",
   "execution_count": 3,
   "metadata": {},
   "outputs": [
    {
     "data": {
      "text/plain": [
       "'C:\\\\Users\\\\sohyeon\\\\Downloads\\\\spark-2.0.0-bin-hadoop2.7'"
      ]
     },
     "execution_count": 3,
     "metadata": {},
     "output_type": "execute_result"
    }
   ],
   "source": [
    "# 본인의 폴더 위치\n",
    "os.path.join(os.path.expanduser(\"~\"),\"Downloads\\spark-2.0.0-bin-hadoop2.7\")"
   ]
  },
  {
   "cell_type": "code",
   "execution_count": 4,
   "metadata": {},
   "outputs": [],
   "source": [
    "os.environ[\"PYLIB\"]=os.path.join(os.environ[\"SPARK_HOME\"],'python','lib')\n",
    "# 아래 py4j 버전 확인하기\n",
    "sys.path.insert(0,os.path.join(os.environ[\"PYLIB\"],'py4j-0.10.1-src.zip'))\n",
    "sys.path.insert(0,os.path.join(os.environ[\"PYLIB\"],'pyspark.zip'))"
   ]
  },
  {
   "cell_type": "code",
   "execution_count": 5,
   "metadata": {},
   "outputs": [],
   "source": [
    "import findspark\n",
    "findspark.init(os.path.join(os.path.expanduser(\"~\"),\"Downloads\\spark-2.0.0-bin-hadoop2.7\"))"
   ]
  },
  {
   "cell_type": "code",
   "execution_count": 6,
   "metadata": {},
   "outputs": [
    {
     "data": {
      "text/plain": [
       "'C:\\\\Users\\\\sohyeon\\\\Downloads\\\\spark-2.0.0-bin-hadoop2.7'"
      ]
     },
     "execution_count": 6,
     "metadata": {},
     "output_type": "execute_result"
    }
   ],
   "source": [
    "findspark.find()"
   ]
  },
  {
   "cell_type": "code",
   "execution_count": 7,
   "metadata": {},
   "outputs": [],
   "source": [
    "import pyspark\n",
    "myConf=pyspark.SparkConf()\n",
    "spark = pyspark.sql.SparkSession.builder\\\n",
    "    .master(\"local\")\\\n",
    "    .appName(\"myApp\")\\\n",
    "    .config('spark.sql.warehouse.dir','C:/Users/sohyeon')\\\n",
    "    .getOrCreate()"
   ]
  },
  {
   "cell_type": "code",
   "execution_count": 8,
   "metadata": {},
   "outputs": [
    {
     "data": {
      "text/plain": [
       "u'C:/Users/sohyeon'"
      ]
     },
     "execution_count": 8,
     "metadata": {},
     "output_type": "execute_result"
    }
   ],
   "source": [
    "spark.conf.get('spark.sql.warehouse.dir')"
   ]
  },
  {
   "cell_type": "markdown",
   "metadata": {},
   "source": [
    "# --------------------------------------------------------"
   ]
  },
  {
   "cell_type": "markdown",
   "metadata": {},
   "source": [
    "### 넷플릭스 상위 컨텐츠"
   ]
  },
  {
   "cell_type": "code",
   "execution_count": 37,
   "metadata": {},
   "outputs": [],
   "source": [
    "myRdd1=spark.sparkContext.textFile(\"./bigData/blogdetails_netflix.json\")"
   ]
  },
  {
   "cell_type": "code",
   "execution_count": 38,
   "metadata": {},
   "outputs": [],
   "source": [
    "# 형태소분석기를 이용할 수도 있지만, 컨텐츠 이름이 단어로만 이루어지지않아서\n",
    "# 정확한 결과를 내기 어려움(ex-루머의 루머의 루머 ->루머:일반명사, 의: 관형격 조사로 분류됨)\n",
    "\n",
    "stopwords1=['-----','\\n',u'\\n',' ',u' ','\\n\\n',u'넷플릭스','netflix',u'오리지널',\n",
    "           u'시리즈',u'드라마',u'애니메이션',u'시즌1',u'시즌2',u'시즌3',u'시즌4',\n",
    "           u'유튜브',u'스트리밍',u'있습니다',u'재미있',u'다양한',u'있는데',\n",
    "           u'그리고',u'그런데',u'실제로',u'그래도',u'하지만',u'때문에',\n",
    "           u'있지만',u'좋아하는',u'안녕하세요',u'출연진',u'출연진들',u'배우들',u'콘텐츠',u'컨텐츠',\n",
    "           u'주인공',u'주인공들',u'남자들',u'스토리',u'캐릭터',u'등장인물들',u'사람들',u'에피소드',\n",
    "           u'정주행',u'이미지',u'유명한','blog.naver.com','instagram',u'크리미널',\n",
    "           u'예고편',u'정주행',u'줄거리',u'포스팅',u'프로그램',u'이야기',u'스페인',\n",
    "           u'정도로',u'마지막',u'갑자기',u'끝까지',u'분위기',u'루머의']\n",
    "\n",
    "myRdd1=myRdd1.flatMap(lambda x:x.split())\\\n",
    ".map(lambda x:x.lower())\\\n",
    ".filter(lambda x:x not in stopwords1)\\\n",
    ".map(lambda x:x.rstrip().lstrip().rstrip('.').rstrip(',').rstrip(':').lstrip('#').\n",
    "    rstrip('?').rstrip('!').rstrip('-').strip('(').strip(')').strip('<').\n",
    "    strip('>').strip('[').strip(']').strip(u'ㅋ').strip(u'ㅎ').\n",
    "    rstrip(u'을').rstrip(u'를').rstrip(u'은').rstrip(u'는').rstrip(u'이').\n",
    "    rstrip(u'가').rstrip(u'에서').rstrip(u'에게').rstrip(u'서').rstrip(u'의').\n",
    "    rstrip(u'니다').rstrip(u'이다').rstrip(u'어요'))\\\n",
    ".filter(lambda x:x not in stopwords1)\\\n",
    ".map(lambda x:x.replace(u'루머',u'루머의루머의루머').replace(u'기묘한',u'기묘한이야기').\n",
    "    replace('stranger',u'기묘한이야기').replace(u'버드',u'버드박스').\n",
    "    replace('raising','raising dion').replace(u'사랑했던',u'내가사랑했던모든남자들에게').\n",
    "    replace(u'지정',u'지정생존자').replace(u'시에라',u'시에라연애대작전').\n",
    "    replace(u'오티스',u'오티스의비밀상담소').replace(u'오렌지',u'오렌지이즈더뉴블랙').\n",
    "    replace(u'오뉴블',u'오렌지이즈더뉴블랙').replace(u'나인나인',u'브루클린나인나인').\n",
    "    replace(u'좋알람',u'좋아하면울리는').replace(u'동백',u'동백꽃필무렵').\n",
    "    replace(u'동백꽃',u'동백꽃필무렵').replace(u'로봇',u'러브데스로봇').\n",
    "    replace(u'퀴어아',u'퀴어아이').replace(u'빌어먹',u'빌어먹을세상따위').\n",
    "    replace(u'바이올렛',u'바이올렛에버가든').replace(u'위기',u'위기의친구들').\n",
    "    replace('elite',u'엘리트들').replace(u'종이',u'종이의집').replace('what/if',u'왓/이프').\n",
    "    replace('fractured',u'프랙처드').replace('aladin',u'알라딘').replace(u'안드로이드',u'그녀,안드로이드').\n",
    "    replace(u'연금술사',u'강철의연금술사').replace(u'라모나',u'오!라모나').replace(u'김씨네',u'김씨네편의점').\n",
    "    replace(u'위기',u'위기의친구들').replace(u'콰이어트',u'콰이어트플레이스').replace('american',u'american son'))\\\n",
    ".filter(lambda x:len(x)>2)\\\n",
    ".map(lambda x:(x,1))\\\n",
    ".reduceByKey(lambda x,y:x+y)\\\n",
    ".map(lambda x:(x[1],x[0]))\\\n",
    ".sortByKey(False)"
   ]
  },
  {
   "cell_type": "code",
   "execution_count": 39,
   "metadata": {},
   "outputs": [
    {
     "name": "stdout",
     "output_type": "stream",
     "text": [
      "301 ​​​​\n",
      "127 the\n",
      "87 기묘한이야기\n",
      "78 ​​​\n",
      "55 로맨스\n",
      "54 criminal\n",
      "52 내가사랑했던모든남자들에게\n",
      "46 하이틴\n",
      "46 엘리트들\n",
      "41 아니라\n",
      "40 오렌지이즈더뉴블랙\n",
      "40 코미디\n",
      "38 되는데\n",
      "37 새로운\n",
      "36 아이들\n",
      "35 시작한\n",
      "34 개인적으로\n",
      "34 했는데\n",
      "34 마일스\n",
      "33 굿플레이스\n",
      "33 벌어지\n",
      "32 용의자\n",
      "30 스릴러\n",
      "30 가지고\n",
      "30 봤는데\n",
      "29 하는데\n",
      "29 루머의루머의루머\n",
      "28 굉장히\n",
      "28 여배우\n",
      "28 친구들\n",
      "27 센티네오\n",
      "27 좋아하시\n",
      "27 나오는데\n",
      "26 볼만한\n",
      "25 평범한\n",
      "25 나오고\n",
      "25 and\n",
      "25 영화로\n",
      "25 아니고\n",
      "25 things\n",
      "24 장면들\n",
      "24 다루고\n",
      "23 재미는?​\n",
      "23 갈수록\n",
      "23 오스카르\n",
      "22 있었던\n",
      "22 2019\n",
      "22 케이트\n",
      "22 재밌고\n",
      "21 이상한\n",
      "21 제대로\n",
      "21 프랑스\n",
      "21 다큐멘터리\n",
      "21 오티스의비밀상담소\n",
      "21 여주인공\n",
      "20 with\n",
      "20 생각하\n",
      "20 청소년\n",
      "19 엄청난\n",
      "19 작품들\n",
      "19 같은데\n",
      "19 얼마나\n",
      "19 주인공인\n",
      "19 보여주\n",
      "19 데이트\n",
      "19 돌아온\n",
      "19 너무나\n",
      "19 리스트\n",
      "19 영화입\n",
      "19 안드레\n",
      "19 아버지\n",
      "19 했지만\n",
      "18 우연히\n",
      "18 있다.​\n",
      "18 신선한\n",
      "18 ​넷플릭스\n",
      "18 추천하\n",
      "18 지금까지\n",
      "18 시작했는데\n",
      "18 오!라모나\n",
      "18 상당히\n",
      "17 인물들\n",
      "17 집으로\n",
      "17 좀비랜드\n",
      "17 이것도\n",
      "17 영화들\n",
      "17 2017\n",
      "17 비슷한\n",
      "17 있으면\n",
      "17 위기의친구들의친구들\n",
      "17 알렉스\n",
      "17 미스테리\n",
      "17 재밌다.​\n",
      "16 중인​\n",
      "16 중인​​​​\n",
      "16 사랑스러운\n",
      "16 왓/이프\n",
      "16 list\n",
      "16 아내와\n",
      "16 나타난\n",
      "16 엄마들\n",
      "16 빌어먹을세상따위\n",
      "16 강철의연금술사\n",
      "16 추천작\n",
      "16 있다고\n",
      "16 열심히\n",
      "16 아네모나\n",
      "16 교도소\n",
      "15 아들들\n",
      "15 드라마인데\n",
      "15 오히려\n",
      "15 보시면\n",
      "15 넷플릭스추천\n",
      "15 테이프\n",
      "15 된다.​\n",
      "15 좋아하면울리는\n",
      "15 미스터리\n",
      "15 일어나\n",
      "15 블랙미러\n",
      "15 궁금해\n",
      "15 목소리\n",
      "15 좋아하면\n",
      "15 흥미로운\n",
      "15 추천합\n",
      "15 배경으로\n",
      "15 있다면\n",
      "15 소재로\n",
      "15 사랑하\n",
      "15 도착한\n",
      "15 귀여운\n",
      "15 호불호\n",
      "15 season\n",
      "14 아마도\n",
      "14 프랙처드\n",
      "14 마리나\n",
      "14 엘레노\n",
      "14 스타일\n",
      "14 확실히\n",
      "14 마리아\n",
      "14 내용도\n",
      "14 바탕으로\n",
      "14 그동안\n",
      "14 뛰어난\n",
      "14 드라마로\n",
      "14 재미도\n",
      "14 크리스틴\n",
      "14 한번쯤\n",
      "14 러브데스로봇\n",
      "14 무조건\n",
      "14 상담소\n"
     ]
    }
   ],
   "source": [
    "for i in myRdd1.take(150):\n",
    "    print i[0],i[1]"
   ]
  },
  {
   "cell_type": "code",
   "execution_count": 45,
   "metadata": {},
   "outputs": [],
   "source": [
    "#넷플릭스-상위 9개 컨텐츠 집계 <- 빈도수가 동일한 컨텐츠때문에 10위에서 9위로 줄임\n",
    "movies1=[u'기묘한이야기','criminal',u'내가사랑했던모든남자들에게',u'엘리트들',\n",
    "       u'오렌지이즈더뉴블랙',u'굿플레이스',u'루머의루머의루머',u'오티스의비밀상담소',u'오!라모나']"
   ]
  },
  {
   "cell_type": "code",
   "execution_count": 46,
   "metadata": {},
   "outputs": [],
   "source": [
    "top_netflix=myRdd1.filter(lambda x:x[1] in movies1)"
   ]
  },
  {
   "cell_type": "code",
   "execution_count": 47,
   "metadata": {},
   "outputs": [
    {
     "name": "stdout",
     "output_type": "stream",
     "text": [
      "기묘한이야기 87\n",
      "criminal 54\n",
      "내가사랑했던모든남자들에게 52\n",
      "엘리트들 46\n",
      "오렌지이즈더뉴블랙 40\n",
      "굿플레이스 33\n",
      "루머의루머의루머 29\n",
      "오티스의비밀상담소 21\n",
      "오!라모나 18\n"
     ]
    }
   ],
   "source": [
    "a=top_netflix.collect()\n",
    "for i in a:\n",
    "    print i[1],i[0]"
   ]
  },
  {
   "cell_type": "code",
   "execution_count": 48,
   "metadata": {},
   "outputs": [
    {
     "data": {
      "image/png": "[encoded data removed]",
      "text/plain": [
       "<Figure size 432x288 with 1 Axes>"
      ]
     },
     "metadata": {
      "needs_background": "light"
     },
     "output_type": "display_data"
    }
   ],
   "source": [
    "#넷플릭스-상위 9개 컨텐츠로만 다시 그래프 그리기\n",
    "\n",
    "#한글깨짐을 방지하여 폰트지정\n",
    "% matplotlib inline\n",
    "import matplotlib.pyplot as plt\n",
    "from matplotlib import font_manager, rc\n",
    "font_name = font_manager.FontProperties(fname=\"c:/Windows/Fonts/malgun.ttf\").get_name()\n",
    "rc('font', family=font_name)\n",
    "\n",
    "#그래프\n",
    "count = top_netflix.map(lambda x:x[0]).collect()\n",
    "word = top_netflix.map(lambda x:x[1]).collect()\n",
    "plt.barh(range(len(count)), count, color = 'grey')\n",
    "plt.yticks(range(len(count)), word)\n",
    "plt.show()"
   ]
  },
  {
   "cell_type": "markdown",
   "metadata": {},
   "source": [
    "### 왓챠 상위 컨텐츠"
   ]
  },
  {
   "cell_type": "code",
   "execution_count": 52,
   "metadata": {},
   "outputs": [],
   "source": [
    "myRdd2=spark.sparkContext.textFile(\"./bigData/blogdetails_watcha.json\")"
   ]
  },
  {
   "cell_type": "code",
   "execution_count": 53,
   "metadata": {},
   "outputs": [],
   "source": [
    "# 형태소분석기를 이용할 수도 있지만, 컨텐츠 이름이 단어로만 이루어지지않아서\n",
    "# 정확한 결과를 내기 어려움(ex-루머의 루머의 루머 ->루머:일반명사, 의: 관형격 조사로 분류됨)\n",
    "\n",
    "stopwords2=['-----','\\n',u'\\n',' ',u' ','\\n\\n',u'넷플릭스','netflix',u'오리지널',\n",
    "           u'왓챠플레이',u'왓챠','watcha',u'왓챠플레',u'웨이브',\n",
    "           u'시리즈',u'드라마',u'애니메이션',u'시즌1',u'시즌2',u'시즌3',u'시즌4',\n",
    "           u'유튜브',u'스트리밍',u'있습니다',u'재미있',u'다양한',u'있는데',\n",
    "           u'그리고',u'그런데',u'실제로',u'그래도',u'하지만',u'때문에',\n",
    "           u'있지만',u'좋아하는',u'안녕하세요',u'출연진',u'출연진들',u'배우들',u'콘텐츠',u'컨텐츠',\n",
    "           u'주인공',u'주인공들',u'남자들',u'스토리',u'캐릭터',u'등장인물들',u'사람들',u'에피소드',\n",
    "           u'정주행',u'이미지',u'유명한','blog.naver.com','instagram',\n",
    "           u'예고편',u'정주행',u'줄거리',u'포스팅',u'프로그램',u'이야기',\n",
    "           u'정도로',u'마지막',u'갑자기',u'끝까지',u'분위기']\n",
    "\n",
    "myRdd2=myRdd2.flatMap(lambda x:x.split())\\\n",
    ".map(lambda x:x.lower())\\\n",
    ".filter(lambda x:x not in stopwords2)\\\n",
    ".map(lambda x:x.rstrip().lstrip().rstrip('.').rstrip(',').rstrip(':').lstrip('#').\n",
    "    rstrip('?').rstrip('!').rstrip('-').strip('(').strip(')').strip('<').\n",
    "    strip('>').strip('[').strip(']').strip(u'ㅋ').strip(u'ㅎ').\n",
    "    rstrip(u'을').rstrip(u'를').rstrip(u'은').rstrip(u'는').rstrip(u'이').\n",
    "    rstrip(u'가').rstrip(u'에서').rstrip(u'에게').rstrip(u'서').rstrip(u'의').\n",
    "    rstrip(u'니다').rstrip(u'이다').rstrip(u'어요'))\\\n",
    ".filter(lambda x:x not in stopwords2)\\\n",
    ".map(lambda x:x.replace(u'눈부신',u'나의눈부신친구').replace(u'이브',u'킬링이브').replace(u'애니메이션.유유백',u'유유백서')\n",
    "               .replace(u'스캄',u'스캄프랑스').replace(u'라이즈',u'빅리틀라이즈')\\\n",
    "               .replace(u'에츠코',u'교열걸코노에츠코').replace(u'짱구',u'짱구는못말려')\\\n",
    "               .replace(u'위한',u'내일을위한시간').replace(u'치아문',u'치아문단순적소미호')\\\n",
    "               .replace(u'킬링킬링이브',u'킬링이브').replace(u'왕좌',u'왕좌의게임').replace(u'위기',u'위기의주부들'))\\\n",
    ".filter(lambda x:len(x)>2)\\\n",
    ".map(lambda x:(x,1))\\\n",
    ".reduceByKey(lambda x,y:x+y)\\\n",
    ".map(lambda x:(x[1],x[0]))\\\n",
    ".sortByKey(False)"
   ]
  },
  {
   "cell_type": "code",
   "execution_count": 55,
   "metadata": {},
   "outputs": [
    {
     "name": "stdout",
     "output_type": "stream",
     "text": [
      "119 킬링이브\n",
      "77 빌라넬\n",
      "66 체르노빌\n",
      "57 마철반\n",
      "49 판타지\n",
      "43 볼만한\n",
      "42 왕좌의게임\n",
      "41 1995년\n",
      "40 1992년\n",
      "38 있음.​\n",
      "37 추천.왓챠\n",
      "35 위기의주부들\n",
      "35 리뷰.​이번화\n",
      "33 ​​​\n",
      "31 아이패드\n",
      "31 제대로\n",
      "30 유유백서\n",
      "29 새로운\n",
      "28 플랫폼\n",
      "27 아니라\n",
      "27 진진팀\n",
      "25 진진과\n",
      "23 영화들\n",
      "23 발전소\n",
      "23 15세\n",
      "23 가지고\n",
      "23 코미디\n",
      "22 봤는데\n",
      "22 샤오시\n",
      "21 무제한\n",
      "21 내일을위한시간\n",
      "20 굿닥터\n",
      "20 원자력\n",
      "19 서비스\n",
      "19 방사능\n",
      "19 ​​​​\n",
      "19 이용권\n",
      "19 산드라\n",
      "18 동영상\n",
      "18 영화와\n",
      "17 하는데\n",
      "17 영화입\n",
      "15 ​그리고\n",
      "15 하이틴\n",
      "15 콘스탄틴\n",
      "15 캐롤린\n",
      "15 추천하\n",
      "14 2019년\n",
      "14 했는데\n",
      "14 image\n",
      "14 사이코패스\n",
      "14 외에도\n",
      "14 개인적으로\n",
      "14 스스로\n",
      "14 엄청난\n",
      "14 이것도\n",
      "14 있었던\n",
      "14 귀여운\n",
      "13 가능한\n",
      "13 얼마나\n",
      "13 그대로\n",
      "13 무비히어로\n",
      "13 보시면\n",
      "13 굉장히\n",
      "12 영화추천\n",
      "12 있다고\n",
      "12 레가소프\n",
      "12 좋아하시\n",
      "12 hbo\n",
      "12 좋아한\n",
      "12 wcha.it\n",
      "12 작품들\n",
      "12 대부분\n",
      "12 12세\n",
      "11 바탕으로\n",
      "11 있었는데\n",
      "11 강력한\n",
      "11 나오는데\n",
      "11 보고싶\n",
      "11 2017\n",
      "11 완벽하\n",
      "11 1986년\n",
      "11 연기력\n",
      "11 이용해\n",
      "11 생각하\n",
      "11 재미도\n",
      "11 영화/드라마/애\n",
      "11 초홍과\n",
      "11 비슷한\n",
      "11 열심히\n",
      "11 당연히\n",
      "11 보려고\n",
      "11 시민들\n",
      "10 우보숭\n",
      "10 2018\n",
      "10 못하고\n",
      "10 있다면\n",
      "10 스타일\n",
      "10 보여주\n",
      "10 여우주연상\n",
      "10 비교적\n",
      "10 것으로\n",
      "10 드라마에\n",
      "10 주부들\n",
      "10 엉뚱한\n",
      "10 로맨스\n",
      "9 온라인\n",
      "9 인물들\n",
      "9 영화라\n",
      "9 아직도\n",
      "9 평범한\n",
      "9 정보국\n",
      "9 히어로\n",
      "9 왓챠로\n",
      "9 포인트\n",
      "9 play.watcha.net\n",
      "9 영화라고\n",
      "9 다시보기\n",
      "9 영광옥\n",
      "9 싸이코패스\n",
      "9 왓챠플레이로\n",
      "9 확실히\n",
      "9 친구들\n",
      "9 채널명\n",
      "9 되는데\n",
      "9 시작한\n",
      "9 우연히\n",
      "9 시트콤\n",
      "9 사용으로\n",
      "9 피오나\n",
      "9 같은데\n",
      "9 사용하\n",
      "9 사용할\n",
      "9 추천해\n",
      "9 bbc\n",
      "9 소개해\n",
      "8 1,2\n",
      "8 좋았던\n",
      "8 했지만\n",
      "8 previous\n",
      "8 곧바로\n",
      "8 추천글\n",
      "8 영화인데\n",
      "8 tvn\n",
      "8 영화나\n",
      "8 등장인물\n",
      "8 스타크\n",
      "8 m.blog.naver.com\n",
      "8 없다고\n",
      "8 긴장감\n",
      "8 블로그씨\n",
      "8 국민들\n",
      "8 모르고\n",
      "8 핸드폰\n",
      "8 캐릭터들\n",
      "8 애플펜슬\n",
      "8 미드추천\n",
      "8 사랑스러운\n",
      "8 허프만\n",
      "8 확인하고\n",
      "8 영화/드라마\n",
      "8 크로스\n",
      "8 좋아해\n",
      "8 귀엽고\n",
      "8 등장하\n",
      "8 펠리시티\n",
      "8 아이들\n",
      "8 보기도\n",
      "8 마무리\n",
      "8 영기검\n",
      "8 롱고리아\n",
      "8 상당히\n",
      "8 산드라오\n",
      "8 계속해\n",
      "7 배경으로\n",
      "7 여러분\n",
      "7 최초로\n",
      "7 서울특별시\n",
      "7 영국드라마\n",
      "7 자존감\n"
     ]
    }
   ],
   "source": [
    "for i in myRdd2.take(180):\n",
    "    print i[0],i[1]"
   ]
  },
  {
   "cell_type": "code",
   "execution_count": 56,
   "metadata": {},
   "outputs": [],
   "source": [
    "#왓챠-상위 9개 컨텐츠 집계\n",
    "movies2=[u'킬링이브',u'체르노빌',u'왕좌의게임',u'위기의주부들',u'유유백서',\n",
    "        u'내일을위한시간',u'굿닥터',u'콘스탄틴',u'펠리시티']"
   ]
  },
  {
   "cell_type": "code",
   "execution_count": 57,
   "metadata": {},
   "outputs": [],
   "source": [
    "top_watcha=myRdd2.filter(lambda x:x[1] in movies2)"
   ]
  },
  {
   "cell_type": "code",
   "execution_count": 58,
   "metadata": {},
   "outputs": [
    {
     "name": "stdout",
     "output_type": "stream",
     "text": [
      "킬링이브 119\n",
      "체르노빌 66\n",
      "왕좌의게임 42\n",
      "위기의주부들 35\n",
      "유유백서 30\n",
      "내일을위한시간 21\n",
      "굿닥터 20\n",
      "콘스탄틴 15\n",
      "펠리시티 8\n"
     ]
    }
   ],
   "source": [
    "b=top_watcha.collect()\n",
    "for i in b:\n",
    "    print i[1],i[0]"
   ]
  },
  {
   "cell_type": "code",
   "execution_count": 59,
   "metadata": {},
   "outputs": [
    {
     "data": {
      "image/png": "[encoded data removed]",
      "text/plain": [
       "<Figure size 432x288 with 1 Axes>"
      ]
     },
     "metadata": {
      "needs_background": "light"
     },
     "output_type": "display_data"
    }
   ],
   "source": [
    "#왓챠-상위 10개 컨텐츠로만 다시 그래프 그리기 \n",
    "\n",
    "#한글깨짐을 방지하여 폰트지정\n",
    "% matplotlib inline\n",
    "import matplotlib.pyplot as plt\n",
    "from matplotlib import font_manager, rc\n",
    "font_name = font_manager.FontProperties(fname=\"c:/Windows/Fonts/malgun.ttf\").get_name()\n",
    "rc('font', family=font_name)\n",
    "\n",
    "#그래프\n",
    "count = top_watcha.map(lambda x:x[0]).collect()\n",
    "word = top_watcha.map(lambda x:x[1]).collect()\n",
    "plt.barh(range(len(count)), count, color = 'grey')\n",
    "plt.yticks(range(len(count)), word)\n",
    "plt.show()"
   ]
  },
  {
   "cell_type": "code",
   "execution_count": null,
   "metadata": {},
   "outputs": [],
   "source": []
  }
 ],
 "metadata": {
  "kernelspec": {
   "display_name": "Python 2",
   "language": "python",
   "name": "python2"
  },
  "language_info": {
   "codemirror_mode": {
    "name": "ipython",
    "version": 2
   },
   "file_extension": ".py",
   "mimetype": "text/x-python",
   "name": "python",
   "nbconvert_exporter": "python",
   "pygments_lexer": "ipython2",
   "version": "2.7.16"
  }
 },
 "nbformat": 4,
 "nbformat_minor": 2
}
